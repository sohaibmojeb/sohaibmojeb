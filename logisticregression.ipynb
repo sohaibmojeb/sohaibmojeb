{
 "cells": [
  {
   "cell_type": "code",
   "execution_count": 1,
   "id": "d9d6d0ac",
   "metadata": {
    "execution": {
     "iopub.execute_input": "2021-07-25T20:27:30.939614Z",
     "iopub.status.busy": "2021-07-25T20:27:30.938394Z",
     "iopub.status.idle": "2021-07-25T20:27:31.859271Z",
     "shell.execute_reply": "2021-07-25T20:27:31.858449Z",
     "shell.execute_reply.started": "2021-07-25T20:22:06.605510Z"
    },
    "papermill": {
     "duration": 0.941304,
     "end_time": "2021-07-25T20:27:31.859433",
     "exception": false,
     "start_time": "2021-07-25T20:27:30.918129",
     "status": "completed"
    },
    "tags": []
   },
   "outputs": [],
   "source": [
    "#Required Libraries\n",
    "import numpy as np  \n",
    "import pandas as pd\n",
    "import matplotlib.pyplot as plt\n",
    "from sklearn.metrics import confusion_matrix"
   ]
  },
  {
   "cell_type": "code",
   "execution_count": 2,
   "id": "bbec27f9",
   "metadata": {
    "execution": {
     "iopub.execute_input": "2021-07-25T20:27:31.900151Z",
     "iopub.status.busy": "2021-07-25T20:27:31.899307Z",
     "iopub.status.idle": "2021-07-25T20:27:31.922928Z",
     "shell.execute_reply": "2021-07-25T20:27:31.922014Z",
     "shell.execute_reply.started": "2021-07-25T20:22:10.550983Z"
    },
    "papermill": {
     "duration": 0.047887,
     "end_time": "2021-07-25T20:27:31.923085",
     "exception": false,
     "start_time": "2021-07-25T20:27:31.875198",
     "status": "completed"
    },
    "tags": []
   },
   "outputs": [],
   "source": [
    "#Read dataset\n",
    "data = pd.read_csv('/kaggle/input/diabetes-dataset/diabetes2.csv')"
   ]
  },
  {
   "cell_type": "code",
   "execution_count": 3,
   "id": "2244ac31",
   "metadata": {
    "execution": {
     "iopub.execute_input": "2021-07-25T20:27:31.970357Z",
     "iopub.status.busy": "2021-07-25T20:27:31.969728Z",
     "iopub.status.idle": "2021-07-25T20:27:31.989807Z",
     "shell.execute_reply": "2021-07-25T20:27:31.990321Z",
     "shell.execute_reply.started": "2021-07-25T20:22:16.881043Z"
    },
    "papermill": {
     "duration": 0.049871,
     "end_time": "2021-07-25T20:27:31.990489",
     "exception": false,
     "start_time": "2021-07-25T20:27:31.940618",
     "status": "completed"
    },
    "tags": []
   },
   "outputs": [
    {
     "data": {
      "text/html": [
       "<div>\n",
       "<style scoped>\n",
       "    .dataframe tbody tr th:only-of-type {\n",
       "        vertical-align: middle;\n",
       "    }\n",
       "\n",
       "    .dataframe tbody tr th {\n",
       "        vertical-align: top;\n",
       "    }\n",
       "\n",
       "    .dataframe thead th {\n",
       "        text-align: right;\n",
       "    }\n",
       "</style>\n",
       "<table border=\"1\" class=\"dataframe\">\n",
       "  <thead>\n",
       "    <tr style=\"text-align: right;\">\n",
       "      <th></th>\n",
       "      <th>Pregnancies</th>\n",
       "      <th>Glucose</th>\n",
       "      <th>BloodPressure</th>\n",
       "      <th>SkinThickness</th>\n",
       "      <th>Insulin</th>\n",
       "      <th>BMI</th>\n",
       "      <th>DiabetesPedigreeFunction</th>\n",
       "      <th>Age</th>\n",
       "      <th>Outcome</th>\n",
       "    </tr>\n",
       "  </thead>\n",
       "  <tbody>\n",
       "    <tr>\n",
       "      <th>0</th>\n",
       "      <td>6</td>\n",
       "      <td>148</td>\n",
       "      <td>72</td>\n",
       "      <td>35</td>\n",
       "      <td>0</td>\n",
       "      <td>33.6</td>\n",
       "      <td>0.627</td>\n",
       "      <td>50</td>\n",
       "      <td>1</td>\n",
       "    </tr>\n",
       "    <tr>\n",
       "      <th>1</th>\n",
       "      <td>1</td>\n",
       "      <td>85</td>\n",
       "      <td>66</td>\n",
       "      <td>29</td>\n",
       "      <td>0</td>\n",
       "      <td>26.6</td>\n",
       "      <td>0.351</td>\n",
       "      <td>31</td>\n",
       "      <td>0</td>\n",
       "    </tr>\n",
       "    <tr>\n",
       "      <th>2</th>\n",
       "      <td>8</td>\n",
       "      <td>183</td>\n",
       "      <td>64</td>\n",
       "      <td>0</td>\n",
       "      <td>0</td>\n",
       "      <td>23.3</td>\n",
       "      <td>0.672</td>\n",
       "      <td>32</td>\n",
       "      <td>1</td>\n",
       "    </tr>\n",
       "    <tr>\n",
       "      <th>3</th>\n",
       "      <td>1</td>\n",
       "      <td>89</td>\n",
       "      <td>66</td>\n",
       "      <td>23</td>\n",
       "      <td>94</td>\n",
       "      <td>28.1</td>\n",
       "      <td>0.167</td>\n",
       "      <td>21</td>\n",
       "      <td>0</td>\n",
       "    </tr>\n",
       "    <tr>\n",
       "      <th>4</th>\n",
       "      <td>0</td>\n",
       "      <td>137</td>\n",
       "      <td>40</td>\n",
       "      <td>35</td>\n",
       "      <td>168</td>\n",
       "      <td>43.1</td>\n",
       "      <td>2.288</td>\n",
       "      <td>33</td>\n",
       "      <td>1</td>\n",
       "    </tr>\n",
       "  </tbody>\n",
       "</table>\n",
       "</div>"
      ],
      "text/plain": [
       "   Pregnancies  Glucose  BloodPressure  SkinThickness  Insulin   BMI  \\\n",
       "0            6      148             72             35        0  33.6   \n",
       "1            1       85             66             29        0  26.6   \n",
       "2            8      183             64              0        0  23.3   \n",
       "3            1       89             66             23       94  28.1   \n",
       "4            0      137             40             35      168  43.1   \n",
       "\n",
       "   DiabetesPedigreeFunction  Age  Outcome  \n",
       "0                     0.627   50        1  \n",
       "1                     0.351   31        0  \n",
       "2                     0.672   32        1  \n",
       "3                     0.167   21        0  \n",
       "4                     2.288   33        1  "
      ]
     },
     "execution_count": 3,
     "metadata": {},
     "output_type": "execute_result"
    }
   ],
   "source": [
    "data.head()"
   ]
  },
  {
   "cell_type": "code",
   "execution_count": 4,
   "id": "776cd944",
   "metadata": {
    "execution": {
     "iopub.execute_input": "2021-07-25T20:27:32.025675Z",
     "iopub.status.busy": "2021-07-25T20:27:32.025074Z",
     "iopub.status.idle": "2021-07-25T20:27:32.029537Z",
     "shell.execute_reply": "2021-07-25T20:27:32.030024Z",
     "shell.execute_reply.started": "2021-07-25T20:22:24.499907Z"
    },
    "papermill": {
     "duration": 0.023421,
     "end_time": "2021-07-25T20:27:32.030178",
     "exception": false,
     "start_time": "2021-07-25T20:27:32.006757",
     "status": "completed"
    },
    "tags": []
   },
   "outputs": [
    {
     "data": {
      "text/plain": [
       "(768, 9)"
      ]
     },
     "execution_count": 4,
     "metadata": {},
     "output_type": "execute_result"
    }
   ],
   "source": [
    "data.shape"
   ]
  },
  {
   "cell_type": "code",
   "execution_count": 5,
   "id": "9f4528ef",
   "metadata": {
    "execution": {
     "iopub.execute_input": "2021-07-25T20:27:32.065001Z",
     "iopub.status.busy": "2021-07-25T20:27:32.064338Z",
     "iopub.status.idle": "2021-07-25T20:27:32.074269Z",
     "shell.execute_reply": "2021-07-25T20:27:32.074760Z",
     "shell.execute_reply.started": "2021-07-25T20:22:39.792146Z"
    },
    "papermill": {
     "duration": 0.028846,
     "end_time": "2021-07-25T20:27:32.074935",
     "exception": false,
     "start_time": "2021-07-25T20:27:32.046089",
     "status": "completed"
    },
    "tags": []
   },
   "outputs": [
    {
     "data": {
      "text/plain": [
       "0    500\n",
       "1    268\n",
       "Name: Outcome, dtype: int64"
      ]
     },
     "execution_count": 5,
     "metadata": {},
     "output_type": "execute_result"
    }
   ],
   "source": [
    "data.Outcome.value_counts()"
   ]
  },
  {
   "cell_type": "code",
   "execution_count": 6,
   "id": "2e372027",
   "metadata": {
    "execution": {
     "iopub.execute_input": "2021-07-25T20:27:32.114786Z",
     "iopub.status.busy": "2021-07-25T20:27:32.114139Z",
     "iopub.status.idle": "2021-07-25T20:27:32.118326Z",
     "shell.execute_reply": "2021-07-25T20:27:32.117628Z",
     "shell.execute_reply.started": "2021-07-25T20:22:52.016415Z"
    },
    "papermill": {
     "duration": 0.026415,
     "end_time": "2021-07-25T20:27:32.118504",
     "exception": false,
     "start_time": "2021-07-25T20:27:32.092089",
     "status": "completed"
    },
    "tags": []
   },
   "outputs": [
    {
     "name": "stdout",
     "output_type": "stream",
     "text": [
      "(768, 2)\n",
      "(768,)\n"
     ]
    }
   ],
   "source": [
    "#Grab features and label from dataframe\n",
    "x = data[['Glucose', 'Age']].values\n",
    "# x = data[['Glucose', 'Age', 'Pregnancies', 'BloodPressure', 'SkinThickness', 'Insulin','BMI', 'DiabetesPedigreeFunction']].values\n",
    "y = data['Outcome'].values\n",
    "\n",
    "print(x.shape)\n",
    "print(y.shape)"
   ]
  },
  {
   "cell_type": "code",
   "execution_count": 7,
   "id": "a4d2f077",
   "metadata": {
    "execution": {
     "iopub.execute_input": "2021-07-25T20:27:32.166026Z",
     "iopub.status.busy": "2021-07-25T20:27:32.160358Z",
     "iopub.status.idle": "2021-07-25T20:27:32.494682Z",
     "shell.execute_reply": "2021-07-25T20:27:32.494098Z",
     "shell.execute_reply.started": "2021-07-25T20:22:56.208961Z"
    },
    "papermill": {
     "duration": 0.358422,
     "end_time": "2021-07-25T20:27:32.494813",
     "exception": false,
     "start_time": "2021-07-25T20:27:32.136391",
     "status": "completed"
    },
    "tags": []
   },
   "outputs": [
    {
     "data": {
      "text/plain": [
       "<matplotlib.legend.Legend at 0x7f2d15885b10>"
      ]
     },
     "execution_count": 7,
     "metadata": {},
     "output_type": "execute_result"
    },
    {
     "data": {
      "image/png": "[encoded data removed]",
      "text/plain": [
       "<Figure size 720x432 with 1 Axes>"
      ]
     },
     "metadata": {
      "needs_background": "light"
     },
     "output_type": "display_data"
    }
   ],
   "source": [
    "#Visualization\n",
    "plt.figure(figsize=(10, 6))\n",
    "plt.scatter(x[y == 0][:, 0], x[y == 0][:, 1], color='b', label='0')\n",
    "plt.scatter(x[y == 1][:, 0], x[y == 1][:, 1], color='r', label='1')\n",
    "plt.xlabel('Glucose')\n",
    "plt.ylabel('Age')\n",
    "plt.legend()"
   ]
  },
  {
   "attachments": {
    "logistic.png": {
     "image/png": "[encoded data removed]"
    }
   },
   "cell_type": "markdown",
   "id": "288a4d8f",
   "metadata": {
    "papermill": {
     "duration": 0.018088,
     "end_time": "2021-07-25T20:27:32.531229",
     "exception": false,
     "start_time": "2021-07-25T20:27:32.513141",
     "status": "completed"
    },
    "tags": []
   },
   "source": [
    "![logistic.png](attachment:logistic.png)"
   ]
  },
  {
   "cell_type": "code",
   "execution_count": 8,
   "id": "5a13e40e",
   "metadata": {
    "execution": {
     "iopub.execute_input": "2021-07-25T20:27:32.581588Z",
     "iopub.status.busy": "2021-07-25T20:27:32.580914Z",
     "iopub.status.idle": "2021-07-25T20:27:32.583440Z",
     "shell.execute_reply": "2021-07-25T20:27:32.583958Z",
     "shell.execute_reply.started": "2021-07-25T20:23:32.629800Z"
    },
    "papermill": {
     "duration": 0.034187,
     "end_time": "2021-07-25T20:27:32.584138",
     "exception": false,
     "start_time": "2021-07-25T20:27:32.549951",
     "status": "completed"
    },
    "tags": []
   },
   "outputs": [],
   "source": [
    "class LogisticRegression:\n",
    "    \n",
    "    def __init__(self, l_rate=0.001, iterations=1000):  #assign values for hyper-parameters\n",
    "        self.l_rate = l_rate  #learning rate\n",
    "        self.iterations = iterations  #number of iterations\n",
    "\n",
    "    def fit(self, x, y):  #Fit the training data using Gradient Descent\n",
    "        self.losses = []  # An empty list to store the error in each iteration\n",
    "        self.theta = np.zeros((1 + x.shape[1]))  #intitalization,,,Array of zeros \n",
    "        n = x.shape[0]  #number of training examples 768\n",
    "        \n",
    "        for i in range(self.iterations):\n",
    "            #Step1\n",
    "            y_pred = self.theta[0] + np.dot(x, self.theta[1:])  # hypothesis h(x)\n",
    "            z = y_pred\n",
    "            #Step2\n",
    "            g_z =  1 / (1 + np.e**(-z))  #map predicted values to probabilities between 0 & 1      \n",
    "            \n",
    "            #Step3\n",
    "            cost = (-y * np.log(g_z) - (1 - y) * np.log(1 - g_z))/ n #cost function\n",
    "            self.losses.append(cost) #Tracking losses\n",
    "            \n",
    "            #Step4\n",
    "            d_theta1 = (1/n) * np.dot(x.T, (g_z - y)) #Derivatives of theta[1:]\n",
    "            d_theta0 = (1/n) * np.sum(g_z - y)  #Derivatives of theta[0]\n",
    "            \n",
    "            #Step5\n",
    "            self.theta[1:] = self.theta[1:] - self.l_rate * d_theta1  #upadting values of thetas using Gradient descent\n",
    "            self.theta[0] = self.theta[0] - self.l_rate * d_theta0  #upadting the value of theta 0 using Gradient descent     \n",
    "        return self\n",
    "    \n",
    "    \n",
    "    def predict(self, x):  #Predicts the value after the model has been trained.\n",
    "        y_pred = self.theta[0] + np.dot(x, self.theta[1:]) \n",
    "        z = y_pred\n",
    "        g_z = 1 / (1 + np.e**(-z))\n",
    "        return [1 if i > 0.5 else 0 for i in g_z] #Threshold  \n",
    "   "
   ]
  },
  {
   "cell_type": "code",
   "execution_count": 9,
   "id": "111e224c",
   "metadata": {
    "execution": {
     "iopub.execute_input": "2021-07-25T20:27:32.626292Z",
     "iopub.status.busy": "2021-07-25T20:27:32.625299Z",
     "iopub.status.idle": "2021-07-25T20:27:32.627465Z",
     "shell.execute_reply": "2021-07-25T20:27:32.627980Z",
     "shell.execute_reply.started": "2021-07-25T20:23:36.844070Z"
    },
    "papermill": {
     "duration": 0.025668,
     "end_time": "2021-07-25T20:27:32.628139",
     "exception": false,
     "start_time": "2021-07-25T20:27:32.602471",
     "status": "completed"
    },
    "tags": []
   },
   "outputs": [],
   "source": [
    "#features scaling using z-score\n",
    "def scale(x):\n",
    "    x_scaled = x - np.mean(x, axis=0)\n",
    "    x_scaled = x_scaled / np.std(x_scaled, axis=0)\n",
    "    return x_scaled"
   ]
  },
  {
   "cell_type": "code",
   "execution_count": 10,
   "id": "57bd959d",
   "metadata": {
    "execution": {
     "iopub.execute_input": "2021-07-25T20:27:32.668423Z",
     "iopub.status.busy": "2021-07-25T20:27:32.667444Z",
     "iopub.status.idle": "2021-07-25T20:27:32.853055Z",
     "shell.execute_reply": "2021-07-25T20:27:32.853815Z",
     "shell.execute_reply.started": "2021-07-25T20:23:41.140260Z"
    },
    "papermill": {
     "duration": 0.208767,
     "end_time": "2021-07-25T20:27:32.855206",
     "exception": false,
     "start_time": "2021-07-25T20:27:32.646439",
     "status": "completed"
    },
    "tags": []
   },
   "outputs": [
    {
     "data": {
      "text/plain": [
       "<__main__.LogisticRegression at 0x7f2d0d75d610>"
      ]
     },
     "execution_count": 10,
     "metadata": {},
     "output_type": "execute_result"
    }
   ],
   "source": [
    "x_sd= scale(x)  #call the function scale()\n",
    "model = LogisticRegression()\n",
    "model.fit(x_sd, y)"
   ]
  },
  {
   "cell_type": "code",
   "execution_count": 11,
   "id": "9dec9e08",
   "metadata": {
    "execution": {
     "iopub.execute_input": "2021-07-25T20:27:32.911548Z",
     "iopub.status.busy": "2021-07-25T20:27:32.910805Z",
     "iopub.status.idle": "2021-07-25T20:27:32.914833Z",
     "shell.execute_reply": "2021-07-25T20:27:32.914010Z",
     "shell.execute_reply.started": "2021-07-25T20:23:45.242027Z"
    },
    "papermill": {
     "duration": 0.032477,
     "end_time": "2021-07-25T20:27:32.915033",
     "exception": false,
     "start_time": "2021-07-25T20:27:32.882556",
     "status": "completed"
    },
    "tags": []
   },
   "outputs": [
    {
     "name": "stdout",
     "output_type": "stream",
     "text": [
      "theta_0=  -0.13376189035272026\n",
      "theta_1=  0.19399530029457032\n",
      "theta_2=  0.09450785466873635\n"
     ]
    }
   ],
   "source": [
    "# print theta 0, 1, 2\n",
    "print(\"theta_0= \", model.theta[0])\n",
    "print(\"theta_1= \", model.theta[1])\n",
    "print(\"theta_2= \", model.theta[2])"
   ]
  },
  {
   "cell_type": "code",
   "execution_count": 12,
   "id": "34838e06",
   "metadata": {
    "execution": {
     "iopub.execute_input": "2021-07-25T20:27:32.959771Z",
     "iopub.status.busy": "2021-07-25T20:27:32.959187Z",
     "iopub.status.idle": "2021-07-25T20:27:32.961604Z",
     "shell.execute_reply": "2021-07-25T20:27:32.962050Z",
     "shell.execute_reply.started": "2021-07-25T20:23:50.506974Z"
    },
    "papermill": {
     "duration": 0.026837,
     "end_time": "2021-07-25T20:27:32.962210",
     "exception": false,
     "start_time": "2021-07-25T20:27:32.935373",
     "status": "completed"
    },
    "tags": []
   },
   "outputs": [],
   "source": [
    "y_pred = model.predict(x_sd)"
   ]
  },
  {
   "cell_type": "code",
   "execution_count": 13,
   "id": "634fa681",
   "metadata": {
    "execution": {
     "iopub.execute_input": "2021-07-25T20:27:33.006236Z",
     "iopub.status.busy": "2021-07-25T20:27:33.005434Z",
     "iopub.status.idle": "2021-07-25T20:27:33.014198Z",
     "shell.execute_reply": "2021-07-25T20:27:33.013674Z",
     "shell.execute_reply.started": "2021-07-25T20:23:56.776860Z"
    },
    "papermill": {
     "duration": 0.032669,
     "end_time": "2021-07-25T20:27:33.014337",
     "exception": false,
     "start_time": "2021-07-25T20:27:32.981668",
     "status": "completed"
    },
    "scrolled": true,
    "tags": []
   },
   "outputs": [
    {
     "name": "stdout",
     "output_type": "stream",
     "text": [
      "Confusion Matrix is : \n",
      " [[140  69]\n",
      " [128 431]]\n"
     ]
    }
   ],
   "source": [
    "#compute confusion matrix\n",
    "CM = confusion_matrix(y_pred, y, labels=[1,0])\n",
    "print('Confusion Matrix is : \\n', CM)"
   ]
  },
  {
   "cell_type": "code",
   "execution_count": 14,
   "id": "411b8d9a",
   "metadata": {
    "execution": {
     "iopub.execute_input": "2021-07-25T20:27:33.059252Z",
     "iopub.status.busy": "2021-07-25T20:27:33.058534Z",
     "iopub.status.idle": "2021-07-25T20:27:33.061468Z",
     "shell.execute_reply": "2021-07-25T20:27:33.060864Z",
     "shell.execute_reply.started": "2021-07-25T20:24:00.959929Z"
    },
    "papermill": {
     "duration": 0.026971,
     "end_time": "2021-07-25T20:27:33.061595",
     "exception": false,
     "start_time": "2021-07-25T20:27:33.034624",
     "status": "completed"
    },
    "tags": []
   },
   "outputs": [],
   "source": [
    "TP=CM[0][0]\n",
    "FP=CM[0][1]\n",
    "FN=CM[1][0]\n",
    "TN=CM[1][1]"
   ]
  },
  {
   "cell_type": "code",
   "execution_count": 15,
   "id": "0b35173e",
   "metadata": {
    "execution": {
     "iopub.execute_input": "2021-07-25T20:27:33.103179Z",
     "iopub.status.busy": "2021-07-25T20:27:33.102536Z",
     "iopub.status.idle": "2021-07-25T20:27:33.111226Z",
     "shell.execute_reply": "2021-07-25T20:27:33.111683Z",
     "shell.execute_reply.started": "2021-07-25T20:24:04.848880Z"
    },
    "papermill": {
     "duration": 0.030874,
     "end_time": "2021-07-25T20:27:33.111879",
     "exception": false,
     "start_time": "2021-07-25T20:27:33.081005",
     "status": "completed"
    },
    "tags": []
   },
   "outputs": [
    {
     "name": "stdout",
     "output_type": "stream",
     "text": [
      "Accuracy is : \n",
      " 0.7434895833333334\n",
      "--------------------------------\n",
      "Recall is : \n",
      " 0.5223880597014925\n",
      "--------------------------------\n",
      "Precsion is : \n",
      " 0.6698564593301436\n",
      "--------------------------------\n",
      "F1 score is : \n",
      " 0.5870020964360587\n",
      "--------------------------------\n"
     ]
    }
   ],
   "source": [
    "ACC = (TP+TN)/(TP+TN+FP+FN)\n",
    "print('Accuracy is : \\n', ACC)\n",
    "print('--------------------------------')\n",
    "Rec = TP/(TP+FN)\n",
    "print('Recall is : \\n', Rec)\n",
    "print('--------------------------------')\n",
    "Prec = TP/(TP+FP)\n",
    "print('Precsion is : \\n', Prec)\n",
    "print('--------------------------------')\n",
    "F1 = 2 * ((Prec * Rec)/(Prec + Rec))\n",
    "print('F1 score is : \\n', F1)\n",
    "print('--------------------------------')"
   ]
  },
  {
   "attachments": {
    "threshold.png": {
     "image/png": "[encoded data removed]"
    }
   },
   "cell_type": "markdown",
   "id": "29e66a49",
   "metadata": {
    "papermill": {
     "duration": 0.019491,
     "end_time": "2021-07-25T20:27:33.151220",
     "exception": false,
     "start_time": "2021-07-25T20:27:33.131729",
     "status": "completed"
    },
    "tags": []
   },
   "source": [
    "![threshold.png](attachment:threshold.png)"
   ]
  }
 ],
 "metadata": {
  "kernelspec": {
   "display_name": "Python 3",
   "language": "python",
   "name": "python3"
  },
  "language_info": {
   "codemirror_mode": {
    "name": "ipython",
    "version": 3
   },
   "file_extension": ".py",
   "mimetype": "text/x-python",
   "name": "python",
   "nbconvert_exporter": "python",
   "pygments_lexer": "ipython3",
   "version": "3.7.10"
  },
  "papermill": {
   "default_parameters": {},
   "duration": 10.606785,
   "end_time": "2021-07-25T20:27:33.879908",
   "environment_variables": {},
   "exception": null,
   "input_path": "__notebook__.ipynb",
   "output_path": "__notebook__.ipynb",
   "parameters": {},
   "start_time": "2021-07-25T20:27:23.273123",
   "version": "2.3.3"
  }
 },
 "nbformat": 4,
 "nbformat_minor": 5
}
